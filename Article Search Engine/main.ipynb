{
  "nbformat": 4,
  "nbformat_minor": 0,
  "metadata": {
    "colab": {
      "provenance": []
    },
    "kernelspec": {
      "name": "python3",
      "display_name": "Python 3"
    },
    "language_info": {
      "name": "python"
    }
  },
  "cells": [
    {
      "cell_type": "code",
      "execution_count": 1,
      "metadata": {
        "id": "nfanzhuf-b2V",
        "colab": {
          "base_uri": "https://localhost:8080/"
        },
        "outputId": "1452e071-1483-4306-b8fc-9402fb3bc8a7"
      },
      "outputs": [
        {
          "output_type": "stream",
          "name": "stdout",
          "text": [
            "Looking in indexes: https://pypi.org/simple, https://us-python.pkg.dev/colab-wheels/public/simple/\n",
            "Collecting streamlit\n",
            "  Downloading streamlit-1.21.0-py2.py3-none-any.whl (9.7 MB)\n",
            "\u001b[2K     \u001b[90m━━━━━━━━━━━━━━━━━━━━━━━━━━━━━━━━━━━━━━━━\u001b[0m \u001b[32m9.7/9.7 MB\u001b[0m \u001b[31m61.1 MB/s\u001b[0m eta \u001b[36m0:00:00\u001b[0m\n",
            "\u001b[?25hRequirement already satisfied: pandas<2,>=0.25 in /usr/local/lib/python3.9/dist-packages (from streamlit) (1.4.4)\n",
            "Requirement already satisfied: pyarrow>=4.0 in /usr/local/lib/python3.9/dist-packages (from streamlit) (9.0.0)\n",
            "Requirement already satisfied: python-dateutil in /usr/local/lib/python3.9/dist-packages (from streamlit) (2.8.2)\n",
            "Requirement already satisfied: protobuf<4,>=3.12 in /usr/local/lib/python3.9/dist-packages (from streamlit) (3.20.3)\n",
            "Requirement already satisfied: typing-extensions>=3.10.0.0 in /usr/local/lib/python3.9/dist-packages (from streamlit) (4.5.0)\n",
            "Requirement already satisfied: toml in /usr/local/lib/python3.9/dist-packages (from streamlit) (0.10.2)\n",
            "Requirement already satisfied: importlib-metadata>=1.4 in /usr/local/lib/python3.9/dist-packages (from streamlit) (6.1.0)\n",
            "Collecting pympler>=0.9\n",
            "  Downloading Pympler-1.0.1-py3-none-any.whl (164 kB)\n",
            "\u001b[2K     \u001b[90m━━━━━━━━━━━━━━━━━━━━━━━━━━━━━━━━━━━━━━\u001b[0m \u001b[32m164.8/164.8 kB\u001b[0m \u001b[31m10.9 MB/s\u001b[0m eta \u001b[36m0:00:00\u001b[0m\n",
            "\u001b[?25hRequirement already satisfied: packaging>=14.1 in /usr/local/lib/python3.9/dist-packages (from streamlit) (23.0)\n",
            "Requirement already satisfied: rich>=10.11.0 in /usr/local/lib/python3.9/dist-packages (from streamlit) (13.3.3)\n",
            "Collecting watchdog\n",
            "  Downloading watchdog-3.0.0-py3-none-manylinux2014_x86_64.whl (82 kB)\n",
            "\u001b[2K     \u001b[90m━━━━━━━━━━━━━━━━━━━━━━━━━━━━━━━━━━━━━━━━\u001b[0m \u001b[32m82.1/82.1 kB\u001b[0m \u001b[31m5.8 MB/s\u001b[0m eta \u001b[36m0:00:00\u001b[0m\n",
            "\u001b[?25hRequirement already satisfied: requests>=2.4 in /usr/local/lib/python3.9/dist-packages (from streamlit) (2.27.1)\n",
            "Collecting pydeck>=0.1.dev5\n",
            "  Downloading pydeck-0.8.0-py2.py3-none-any.whl (4.7 MB)\n",
            "\u001b[2K     \u001b[90m━━━━━━━━━━━━━━━━━━━━━━━━━━━━━━━━━━━━━━━━\u001b[0m \u001b[32m4.7/4.7 MB\u001b[0m \u001b[31m72.5 MB/s\u001b[0m eta \u001b[36m0:00:00\u001b[0m\n",
            "\u001b[?25hRequirement already satisfied: tzlocal>=1.1 in /usr/local/lib/python3.9/dist-packages (from streamlit) (4.3)\n",
            "Collecting blinker>=1.0.0\n",
            "  Downloading blinker-1.6.1-py3-none-any.whl (13 kB)\n",
            "Requirement already satisfied: click>=7.0 in /usr/local/lib/python3.9/dist-packages (from streamlit) (8.1.3)\n",
            "Requirement already satisfied: tornado>=6.0.3 in /usr/local/lib/python3.9/dist-packages (from streamlit) (6.2)\n",
            "Requirement already satisfied: cachetools>=4.0 in /usr/local/lib/python3.9/dist-packages (from streamlit) (5.3.0)\n",
            "Collecting validators>=0.2\n",
            "  Downloading validators-0.20.0.tar.gz (30 kB)\n",
            "  Preparing metadata (setup.py) ... \u001b[?25l\u001b[?25hdone\n",
            "Requirement already satisfied: altair<5,>=3.2.0 in /usr/local/lib/python3.9/dist-packages (from streamlit) (4.2.2)\n",
            "Requirement already satisfied: pillow>=6.2.0 in /usr/local/lib/python3.9/dist-packages (from streamlit) (8.4.0)\n",
            "Requirement already satisfied: numpy in /usr/local/lib/python3.9/dist-packages (from streamlit) (1.22.4)\n",
            "Collecting gitpython!=3.1.19\n",
            "  Downloading GitPython-3.1.31-py3-none-any.whl (184 kB)\n",
            "\u001b[2K     \u001b[90m━━━━━━━━━━━━━━━━━━━━━━━━━━━━━━━━━━━━━━\u001b[0m \u001b[32m184.3/184.3 kB\u001b[0m \u001b[31m13.2 MB/s\u001b[0m eta \u001b[36m0:00:00\u001b[0m\n",
            "\u001b[?25hRequirement already satisfied: entrypoints in /usr/local/lib/python3.9/dist-packages (from altair<5,>=3.2.0->streamlit) (0.4)\n",
            "Requirement already satisfied: jinja2 in /usr/local/lib/python3.9/dist-packages (from altair<5,>=3.2.0->streamlit) (3.1.2)\n",
            "Requirement already satisfied: jsonschema>=3.0 in /usr/local/lib/python3.9/dist-packages (from altair<5,>=3.2.0->streamlit) (4.3.3)\n",
            "Requirement already satisfied: toolz in /usr/local/lib/python3.9/dist-packages (from altair<5,>=3.2.0->streamlit) (0.12.0)\n",
            "Collecting gitdb<5,>=4.0.1\n",
            "  Downloading gitdb-4.0.10-py3-none-any.whl (62 kB)\n",
            "\u001b[2K     \u001b[90m━━━━━━━━━━━━━━━━━━━━━━━━━━━━━━━━━━━━━━━━\u001b[0m \u001b[32m62.7/62.7 kB\u001b[0m \u001b[31m4.2 MB/s\u001b[0m eta \u001b[36m0:00:00\u001b[0m\n",
            "\u001b[?25hRequirement already satisfied: zipp>=0.5 in /usr/local/lib/python3.9/dist-packages (from importlib-metadata>=1.4->streamlit) (3.15.0)\n",
            "Requirement already satisfied: pytz>=2020.1 in /usr/local/lib/python3.9/dist-packages (from pandas<2,>=0.25->streamlit) (2022.7.1)\n",
            "Requirement already satisfied: six>=1.5 in /usr/local/lib/python3.9/dist-packages (from python-dateutil->streamlit) (1.16.0)\n",
            "Requirement already satisfied: urllib3<1.27,>=1.21.1 in /usr/local/lib/python3.9/dist-packages (from requests>=2.4->streamlit) (1.26.15)\n",
            "Requirement already satisfied: idna<4,>=2.5 in /usr/local/lib/python3.9/dist-packages (from requests>=2.4->streamlit) (3.4)\n",
            "Requirement already satisfied: certifi>=2017.4.17 in /usr/local/lib/python3.9/dist-packages (from requests>=2.4->streamlit) (2022.12.7)\n",
            "Requirement already satisfied: charset-normalizer~=2.0.0 in /usr/local/lib/python3.9/dist-packages (from requests>=2.4->streamlit) (2.0.12)\n",
            "Requirement already satisfied: pygments<3.0.0,>=2.13.0 in /usr/local/lib/python3.9/dist-packages (from rich>=10.11.0->streamlit) (2.14.0)\n",
            "Requirement already satisfied: markdown-it-py<3.0.0,>=2.2.0 in /usr/local/lib/python3.9/dist-packages (from rich>=10.11.0->streamlit) (2.2.0)\n",
            "Requirement already satisfied: pytz-deprecation-shim in /usr/local/lib/python3.9/dist-packages (from tzlocal>=1.1->streamlit) (0.1.0.post0)\n",
            "Requirement already satisfied: decorator>=3.4.0 in /usr/local/lib/python3.9/dist-packages (from validators>=0.2->streamlit) (4.4.2)\n",
            "Collecting smmap<6,>=3.0.1\n",
            "  Downloading smmap-5.0.0-py3-none-any.whl (24 kB)\n",
            "Requirement already satisfied: MarkupSafe>=2.0 in /usr/local/lib/python3.9/dist-packages (from jinja2->altair<5,>=3.2.0->streamlit) (2.1.2)\n",
            "Requirement already satisfied: attrs>=17.4.0 in /usr/local/lib/python3.9/dist-packages (from jsonschema>=3.0->altair<5,>=3.2.0->streamlit) (22.2.0)\n",
            "Requirement already satisfied: pyrsistent!=0.17.0,!=0.17.1,!=0.17.2,>=0.14.0 in /usr/local/lib/python3.9/dist-packages (from jsonschema>=3.0->altair<5,>=3.2.0->streamlit) (0.19.3)\n",
            "Requirement already satisfied: mdurl~=0.1 in /usr/local/lib/python3.9/dist-packages (from markdown-it-py<3.0.0,>=2.2.0->rich>=10.11.0->streamlit) (0.1.2)\n",
            "Requirement already satisfied: tzdata in /usr/local/lib/python3.9/dist-packages (from pytz-deprecation-shim->tzlocal>=1.1->streamlit) (2023.3)\n",
            "Building wheels for collected packages: validators\n",
            "  Building wheel for validators (setup.py) ... \u001b[?25l\u001b[?25hdone\n",
            "  Created wheel for validators: filename=validators-0.20.0-py3-none-any.whl size=19579 sha256=519203ebd234e3760d946bb773e0c1cec914e9f2e1c0d18b19af8fc775c6ce0a\n",
            "  Stored in directory: /root/.cache/pip/wheels/2d/f0/a8/1094fca7a7e5d0d12ff56e0c64675d72aa5cc81a5fc200e849\n",
            "Successfully built validators\n",
            "Installing collected packages: watchdog, validators, smmap, pympler, blinker, pydeck, gitdb, gitpython, streamlit\n",
            "Successfully installed blinker-1.6.1 gitdb-4.0.10 gitpython-3.1.31 pydeck-0.8.0 pympler-1.0.1 smmap-5.0.0 streamlit-1.21.0 validators-0.20.0 watchdog-3.0.0\n",
            "Looking in indexes: https://pypi.org/simple, https://us-python.pkg.dev/colab-wheels/public/simple/\n",
            "Collecting whoosh\n",
            "  Downloading Whoosh-2.7.4-py2.py3-none-any.whl (468 kB)\n",
            "\u001b[2K     \u001b[90m━━━━━━━━━━━━━━━━━━━━━━━━━━━━━━━━━━━━━━\u001b[0m \u001b[32m468.8/468.8 kB\u001b[0m \u001b[31m21.0 MB/s\u001b[0m eta \u001b[36m0:00:00\u001b[0m\n",
            "\u001b[?25hInstalling collected packages: whoosh\n",
            "Successfully installed whoosh-2.7.4\n",
            "Looking in indexes: https://pypi.org/simple, https://us-python.pkg.dev/colab-wheels/public/simple/\n",
            "Collecting beautifulsoup\n",
            "  Downloading BeautifulSoup-3.2.2.tar.gz (32 kB)\n",
            "  \u001b[1;31merror\u001b[0m: \u001b[1msubprocess-exited-with-error\u001b[0m\n",
            "  \n",
            "  \u001b[31m×\u001b[0m \u001b[32mpython setup.py egg_info\u001b[0m did not run successfully.\n",
            "  \u001b[31m│\u001b[0m exit code: \u001b[1;36m1\u001b[0m\n",
            "  \u001b[31m╰─>\u001b[0m See above for output.\n",
            "  \n",
            "  \u001b[1;35mnote\u001b[0m: This error originates from a subprocess, and is likely not a problem with pip.\n",
            "  Preparing metadata (setup.py) ... \u001b[?25l\u001b[?25herror\n",
            "\u001b[1;31merror\u001b[0m: \u001b[1mmetadata-generation-failed\u001b[0m\n",
            "\n",
            "\u001b[31m×\u001b[0m Encountered error while generating package metadata.\n",
            "\u001b[31m╰─>\u001b[0m See above for output.\n",
            "\n",
            "\u001b[1;35mnote\u001b[0m: This is an issue with the package mentioned above, not pip.\n",
            "\u001b[1;36mhint\u001b[0m: See above for details.\n",
            "Looking in indexes: https://pypi.org/simple, https://us-python.pkg.dev/colab-wheels/public/simple/\n",
            "Requirement already satisfied: lxml in /usr/local/lib/python3.9/dist-packages (4.9.2)\n",
            "Looking in indexes: https://pypi.org/simple, https://us-python.pkg.dev/colab-wheels/public/simple/\n",
            "Collecting pyngrok\n",
            "  Downloading pyngrok-5.2.1.tar.gz (761 kB)\n",
            "\u001b[2K     \u001b[90m━━━━━━━━━━━━━━━━━━━━━━━━━━━━━━━━━━━━━━\u001b[0m \u001b[32m761.3/761.3 kB\u001b[0m \u001b[31m27.9 MB/s\u001b[0m eta \u001b[36m0:00:00\u001b[0m\n",
            "\u001b[?25h  Preparing metadata (setup.py) ... \u001b[?25l\u001b[?25hdone\n",
            "Requirement already satisfied: PyYAML in /usr/local/lib/python3.9/dist-packages (from pyngrok) (6.0)\n",
            "Building wheels for collected packages: pyngrok\n",
            "  Building wheel for pyngrok (setup.py) ... \u001b[?25l\u001b[?25hdone\n",
            "  Created wheel for pyngrok: filename=pyngrok-5.2.1-py3-none-any.whl size=19790 sha256=57addacbe37eb2a7e4ce6c8263c289987d85c53b9e1b624d3aefcc16df5b1698\n",
            "  Stored in directory: /root/.cache/pip/wheels/f6/89/59/49d4249e00957e94813ac136a335d10ed2e09a856c5096f95c\n",
            "Successfully built pyngrok\n",
            "Installing collected packages: pyngrok\n",
            "Successfully installed pyngrok-5.2.1\n"
          ]
        }
      ],
      "source": [
        "! pip install streamlit\n",
        "! pip install whoosh\n",
        "! pip install beautifulsoup\n",
        "! pip install lxml\n",
        "! pip install pyngrok"
      ]
    },
    {
      "cell_type": "code",
      "source": [
        "import requests\n",
        "import validators\n",
        "from bs4 import BeautifulSoup\n",
        "from queue import Queue\n",
        "\n",
        "from whoosh.index import create_in, open_dir\n",
        "from whoosh.fields import *\n",
        "import os.path"
      ],
      "metadata": {
        "id": "5EOGMAq2-y4_"
      },
      "execution_count": 2,
      "outputs": []
    },
    {
      "cell_type": "code",
      "source": [
        "# prepare whoosh for indexing purpose\n",
        "\n",
        "# create schema to define format of content to index\n",
        "schema = Schema(title=TEXT(stored=True), path=ID(stored=True), date=TEXT(stored=True), content=TEXT)\n",
        "\n",
        "ix = None\n",
        "# check and create a folder index for storing files\n",
        "if not os.path.exists(\"index\"):\n",
        "    os.mkdir(\"index\")\n",
        "\n",
        "    # assign folder index to schema for storing purpose\n",
        "    ix = create_in(\"index\", schema)\n",
        "elif os.path.exists(\"index\"):\n",
        "    ix = open_dir(\"index\")\n",
        "\n",
        "# create a writer object \n",
        "writer = ix.writer()"
      ],
      "metadata": {
        "id": "U-0-A67g_QFD"
      },
      "execution_count": 3,
      "outputs": []
    },
    {
      "cell_type": "code",
      "source": [
        "# Retrieve article with 3 levels\n",
        "url = 'https://vnexpress.net/'\n",
        "already_searched = [url]\n",
        "\n",
        "max_nlevel = 2\n",
        "\n",
        "# Retrieve content of single article by its url\n",
        "def retrieve_article(url: str) -> None:\n",
        "    response = requests.get(url)\n",
        "    soup = BeautifulSoup(response.content, 'lxml')\n",
        "\n",
        "    # get page's title\n",
        "    title = soup.title.text if soup.title else ''\n",
        "    \n",
        "    # get page's content\n",
        "    contents = soup.find_all(\"p\", {\"class\": \"Normal\"})\n",
        "    text_contents = \"\"\n",
        "    for content in contents:\n",
        "        text_contents += content.extract().text\n",
        "    \n",
        "    # get page's published date\n",
        "    date = soup.find(\"span\", {\"class\": \"date\"})\n",
        "    if date is None:\n",
        "        date = \"None\"\n",
        "    else:\n",
        "        date = date.extract().text\n",
        "    \n",
        "    #add title, content of article for indexing purpose\n",
        "    writer.add_document(title=title, path=url, date=date, content=text_contents)\n",
        "\n",
        "# Recursively retrieve articles (with number of levels of crawl) from a single url\n",
        "def retrieve_articles(url: str, max_level: int) -> None:\n",
        "    queue = Queue()\n",
        "    queue.put(url)\n",
        "    visited = set()\n",
        "    visited.add(url)\n",
        "\n",
        "    level = 0\n",
        "    while not queue.empty() and level < max_level:\n",
        "        s = len(queue.queue)\n",
        "        for _ in range(s):\n",
        "            url = queue.get()\n",
        "            retrieve_article(url)\n",
        "\n",
        "            response = requests.get(url)\n",
        "            soup = BeautifulSoup(response.content, 'lxml')\n",
        "\n",
        "            links = soup.find_all('a', href=True)\n",
        "            links = [link['href'].split('#')[0] for link in links]\n",
        "\n",
        "            for link in links:\n",
        "                if link not in visited and validators.url(link):\n",
        "                    queue.put(link)\n",
        "                    visited.add(link)\n",
        "        level += 1\n",
        "\n",
        "retrieve_articles(url, max_nlevel)\n",
        "writer.commit()"
      ],
      "metadata": {
        "id": "vh8WP3z9_Oeu"
      },
      "execution_count": 4,
      "outputs": []
    },
    {
      "cell_type": "code",
      "source": [
        "%%writefile search_engine.py\n",
        "# start streamlit\n",
        "import streamlit as st\n",
        "from whoosh.index import create_in, open_dir\n",
        "from whoosh.fields import *\n",
        "import os.path\n",
        "\n",
        "st.set_page_config(page_title=\"VnExpress Articles Search Engine\", layout=\"wide\")\n",
        "st.title(\"VnExpress Articles Search Engine\")\n",
        "\n",
        "text_search = st.text_input(\"Search Articles by title or content\", value=\"\")\n",
        "\n",
        "@st.cache_data\n",
        "def assign_ix():\n",
        "    # check and create a folder index for storing files\n",
        "    if not os.path.exists(\"index\"):\n",
        "        assert False\n",
        "    elif os.path.exists(\"index\"):\n",
        "        # open existing index files that created after indexing\n",
        "        return open_dir(\"index\")\n",
        "\n",
        "ix = assign_ix()\n",
        "\n",
        "# start researching the document\n",
        "from whoosh.query import *\n",
        "from whoosh.qparser import QueryParser\n",
        "from typing import List\n",
        "\n",
        "# Define your Streamlit app\n",
        "def our_search(text_search: str) -> List[str]:\n",
        "    with ix.searcher() as searcher:\n",
        "        parser = QueryParser(\"content\", ix.schema)\n",
        "        query = parser.parse(text_search)\n",
        "        results = searcher.search(query)\n",
        "        vector_result = [{\"title\": hit[\"title\"], \"date\": hit[\"date\"], \"path\": hit[\"path\"]} for hit in results]\n",
        "        return vector_result\n",
        "\n",
        "\n",
        "\n",
        "results = our_search(text_search)\n",
        "\n",
        "# Create columns for displaying the results\n",
        "col1, col2, col3 = st.columns(3)\n",
        "\n",
        "# Iterate over the results and display them in the columns\n",
        "for index, result in enumerate(results):\n",
        "    if index % 3 == 0:\n",
        "        col = col1\n",
        "    elif index % 3 == 1:\n",
        "        col = col2\n",
        "    else:\n",
        "        col = col3\n",
        "    with col:\n",
        "        st.markdown(f\"***{result['title']}***\")\n",
        "        st.markdown(f\"*{result['date']}*\")\n",
        "        st.markdown(f\"**{result['path']}**\")\n",
        "        \n",
        "        st.write(\"---\")"
      ],
      "metadata": {
        "colab": {
          "base_uri": "https://localhost:8080/"
        },
        "id": "xEp78JfNcJ-U",
        "outputId": "22c57677-fa06-4972-8fbf-36cb95cbb1f6"
      },
      "execution_count": 5,
      "outputs": [
        {
          "output_type": "stream",
          "name": "stdout",
          "text": [
            "Writing search_engine.py\n"
          ]
        }
      ]
    },
    {
      "cell_type": "code",
      "source": [
        "# expose my streamlit app to the internet\n",
        "from pyngrok import ngrok\n",
        "\n",
        "# use ngrok to display our engine \n",
        "ngrok.set_auth_token('2ERWLpX0sOWRCY845tvYWkuNTo7_2Qra4qyhzntZQxsLqazjP')"
      ],
      "metadata": {
        "colab": {
          "base_uri": "https://localhost:8080/"
        },
        "id": "DJ1gOAv-e0Tr",
        "outputId": "211dbfbd-a41d-42b7-b897-12cc15ff450e"
      },
      "execution_count": 6,
      "outputs": [
        {
          "output_type": "stream",
          "name": "stdout",
          "text": []
        }
      ]
    },
    {
      "cell_type": "code",
      "source": [
        "# run streamlit at port 80 and connect ngrok to port 80 also\n",
        "! nohup streamlit run search_engine.py --server.port 80 &\n",
        "url = ngrok.connect(port='80')\n",
        "\n",
        "# run the application by the public_url\n",
        "print(url.public_url)"
      ],
      "metadata": {
        "colab": {
          "base_uri": "https://localhost:8080/"
        },
        "id": "5x-xwDxXn5V3",
        "outputId": "3f005c4b-b913-4e0e-8d4d-7001b0e11284"
      },
      "execution_count": 7,
      "outputs": [
        {
          "output_type": "stream",
          "name": "stdout",
          "text": [
            "nohup: appending output to 'nohup.out'\n",
            "http://8faa-34-90-10-104.ngrok-free.app\n"
          ]
        }
      ]
    }
  ]
}